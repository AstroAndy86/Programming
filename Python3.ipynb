{
 "cells": [
  {
   "cell_type": "code",
   "execution_count": 62,
   "metadata": {
    "collapsed": false
   },
   "outputs": [
    {
     "name": "stdout",
     "output_type": "stream",
     "text": [
      "Overwriting example.py\n"
     ]
    }
   ],
   "source": [
    "%%writefile example.py\n",
    "import wx\n",
    "import os\n",
    "class ExamplePanel (wx.Panel):\n",
    "    def __init__(self, parent):\n",
    "        wx.Panel.__init__(self,parent)\n",
    "        self.quote= wx.StaticText(self, label=\"Your Quote :\", pos=(20,30))\n",
    "        self.logger = wx.TextCtrl(self, pos=(320,20), size=(200,300), style=wx.TE_MULTILINE | wx.TE_READONLY)\n",
    "\n",
    "        # A button\n",
    "        self.button = wx.Button(self, label=\"Save\", pos=(200, 325))\n",
    "        self.Bind(wx.EVT_BUTTON, self.OnClick,self.button)\n",
    "\n",
    "        # the edit control - one line version\n",
    "        self.lblname = wx.StaticText(self, label=\"Your name :\", pos=(20,60))\n",
    "        self.editname = wx.TextCtrl(self, value=\"Enter here your name\", pos=(150,60), size=(140,-1))\n",
    "        self.Bind(wx.EVT_TEXT,self.EvtText,self.editname)\n",
    "        self.Bind(wx.EVT_CHAR,self.EvtChar,self.editname)\n",
    "\n",
    "        # the combobox Control\n",
    "        self.sampleList = ['friends', 'advertising', 'web search', 'Yellow Pages']\n",
    "        self.lblhear = wx.StaticText(self, label=\"How did you hear from us?\", pos=(20,90))\n",
    "        self.edithear = wx.ComboBox(self, pos=(197,88),size=(95,-1),choices=self.sampleList, style=wx.CB_DROPDOWN)\n",
    "        self.Bind(wx.EVT_COMBOBOX,self.EvtComboBox,self.edithear)\n",
    "        self.Bind(wx.EVT_TEXT,self.EvtText,self.edithear)\n",
    "\n",
    "        self.insure=wx.CheckBox(self,label=\"Do you want Insured Shipment?\", pos=(20,180))\n",
    "        self.Bind(wx.EVT_CHECKBOX,self.EvtCheckBox,self.insure)\n",
    "\n",
    "        # Radio Boxes\n",
    "        radioList = ['blue','red','yellow','orange','green','purple','navy blue','black','gray']\n",
    "        rb = wx.RadioBox(self,label=\"What color whould you like?\", pos=(20,210), choices=radioList, majorDimension=3,style=wx.RA_SPECIFY_COLS)\n",
    "        self.Bind(wx.EVT_RADIOBOX,self.EvtRadioBox,rb)\n",
    "    \n",
    "    def EvtRadioBox(self,event):\n",
    "        self.logger.AppendText('EvtRadioBox: %d\\n' % event.GetInt())\n",
    "    def EvtComboBox(self,event):\n",
    "        self.logger.AppendText('EvtComboBox %s/n' % event.GetString())\n",
    "    def OnClick(self,event):\n",
    "        self.logger.AppendText('Click on an object with ID %d\\n' % event.GetId())\n",
    "    def EvtText(self,event):\n",
    "        self.logger.AppendText('EvtText: %s\\n' % event.GetString())\n",
    "    def EvtChar(self,event):\n",
    "        self.logger.AppendText('EvtChar: %d\\n' % event.GetKeyCode())\n",
    "    def EvtCheckBox(self,event):\n",
    "        self.logger.AppendText('EvtCheckBox: %d\\n' % event.Checked())"
   ]
  },
  {
   "cell_type": "code",
   "execution_count": 63,
   "metadata": {
    "collapsed": false
   },
   "outputs": [
    {
     "name": "stdout",
     "output_type": "stream",
     "text": [
      "Overwriting control_demo.py\n"
     ]
    }
   ],
   "source": [
    "%%writefile control_demo.py\n",
    "import wx\n",
    "from example import ExamplePanel\n",
    "\n",
    "app=wx.App(False)\n",
    "frame=wx.Frame(None,size=(500,400))\n",
    "panel=ExamplePanel(frame)\n",
    "frame.Show()\n",
    "app.MainLoop()"
   ]
  },
  {
   "cell_type": "code",
   "execution_count": 64,
   "metadata": {
    "collapsed": false
   },
   "outputs": [],
   "source": [
    "!python control_demo.py"
   ]
  },
  {
   "cell_type": "code",
   "execution_count": 45,
   "metadata": {
    "collapsed": false
   },
   "outputs": [
    {
     "name": "stdout",
     "output_type": "stream",
     "text": [
      "Writing notebook_demo.py\n"
     ]
    }
   ],
   "source": [
    "%%writefile notebook_demo.py\n",
    "import wx\n",
    "from example import ExamplePanel\n",
    "\n",
    "app=wx.App(False)\n",
    "frame=wx.Frame(None, title=\"Demo with Notebook\",size=(500,400))\n",
    "nb= wx.Notebook(frame)\n",
    "\n",
    "nb.AddPage(ExamplePanel(nb),\"Absolute Positioning\")\n",
    "nb.AddPage(ExamplePanel(nb),\"Page two\")\n",
    "nb.AddPage(ExamplePanel(nb),\"Page three\")\n",
    "frame.Show()\n",
    "app.MainLoop()"
   ]
  },
  {
   "cell_type": "code",
   "execution_count": 72,
   "metadata": {
    "collapsed": false
   },
   "outputs": [
    {
     "name": "stdout",
     "output_type": "stream",
     "text": [
      "Overwriting example.py\n"
     ]
    }
   ],
   "source": [
    "%%writefile example.py\n",
    "import wx\n",
    "import os\n",
    "class ExamplePanel (wx.Panel):\n",
    "    def __init__(self, parent):\n",
    "        wx.Panel.__init__(self,parent)\n",
    "        \n",
    "        # create some sizers\n",
    "        # NEW CODE:\n",
    "        mainSizer = wx.BoxSizer(wx.VERTICAL)\n",
    "        grid = wx. GridBagSizer(hgap=5, vgap=5)\n",
    "        hSizer = wx.BoxSizer(wx.HORIZONTAL)\n",
    "        \n",
    "        self.quote= wx.StaticText(self, label=\"Your Quote :\")\n",
    "        grid.Add(self.quote, pos=(0,0))  #NEW LINE\n",
    "        \n",
    "        # A multiline textctrl - this is here to show how the events work\n",
    "        self.logger = wx.TextCtrl(self, size=(200,300), style=wx.TE_MULTILINE | wx.TE_READONLY)\n",
    "\n",
    "        # A button\n",
    "        self.button = wx.Button(self, label=\"Save\")\n",
    "        grid.Add(self.button, pos=(0,1))\n",
    "        self.Bind(wx.EVT_BUTTON, self.OnClick,self.button)\n",
    "\n",
    "        # the edit control - one line version\n",
    "        self.lblname = wx.StaticText(self, label=\"Your name :\")\n",
    "        grid.Add(self.lblname, pos=(1,0))\n",
    "        self.editname = wx.TextCtrl(self, value=\"Enter here your name\", size=(140,-1))\n",
    "        grid.Add(self.editname, pos=(1,1))\n",
    "        self.Bind(wx.EVT_TEXT,self.EvtText,self.editname)\n",
    "        self.Bind(wx.EVT_CHAR,self.EvtChar,self.editname)\n",
    "\n",
    "        # the combobox Control\n",
    "        self.sampleList = ['friends', 'advertising', 'web search', 'Yellow Pages']\n",
    "        self.lblhear = wx.StaticText(self, label=\"How did you hear from us?\")\n",
    "        grid.Add(self.lblhear, pos=(3,0))\n",
    "        self.edithear = wx.ComboBox(self, size=(95,-1),choices=self.sampleList, style=wx.CB_DROPDOWN)\n",
    "        grid.Add(self.edithear, pos=(3,1))\n",
    "        self.Bind(wx.EVT_COMBOBOX,self.EvtComboBox,self.edithear)\n",
    "        self.Bind(wx.EVT_TEXT,self.EvtText,self.edithear)\n",
    "        \n",
    "        # add a spacer to the sizer\n",
    "        grid.Add((10,40), pos=(2,0))   # NEW LINE\n",
    "\n",
    "        # check box\n",
    "        self.insure=wx.CheckBox(self,label=\"Do you want Insured Shipment?\")\n",
    "        grid.Add(self.insure, pos=(4,0), span=(1,2), flag=wx.BOTTOM, border=5) # NEW LINE\n",
    "        self.Bind(wx.EVT_CHECKBOX,self.EvtCheckBox,self.insure)\n",
    "\n",
    "        # Radio Boxes\n",
    "        radioList = ['blue','red','yellow','orange','green','purple','navy blue','black','gray']\n",
    "        rb = wx.RadioBox(self,label=\"What color whould you like?\", choices=radioList, majorDimension=3,style=wx.RA_SPECIFY_COLS)\n",
    "        grid.Add(rb, pos=(5,0), span=(1,2)) #NEW LINE\n",
    "        self.Bind(wx.EVT_RADIOBOX,self.EvtRadioBox,rb)\n",
    "        \n",
    "        # NEW CODE\n",
    "        hSizer.Add(grid, 0, wx.ALL, 5)\n",
    "        hSizer.Add(self.logger)\n",
    "        mainSizer.Add(hSizer, 0, wx.ALL, 5)\n",
    "        mainSizer.Add(self.button, 0 , wx.CENTER)\n",
    "        self.SetSizerAndFit(mainSizer)\n",
    "        \n",
    "    \n",
    "    def EvtRadioBox(self,event):\n",
    "        self.logger.AppendText('EvtRadioBox: %d\\n' % event.GetInt())\n",
    "    def EvtComboBox(self,event):\n",
    "        self.logger.AppendText('EvtComboBox %s/n' % event.GetString())\n",
    "    def OnClick(self,event):\n",
    "        self.logger.AppendText('Click on an object with ID %d\\n' % event.GetId())\n",
    "    def EvtText(self,event):\n",
    "        self.logger.AppendText('EvtText: %s\\n' % event.GetString())\n",
    "    def EvtChar(self,event):\n",
    "        self.logger.AppendText('EvtChar: %d\\n' % event.GetKeyCode())\n",
    "    def EvtCheckBox(self,event):\n",
    "        self.logger.AppendText('EvtCheckBox: %d\\n' % event.Checked())\n",
    "\n",
    "\n",
    "        "
   ]
  },
  {
   "cell_type": "code",
   "execution_count": 73,
   "metadata": {
    "collapsed": false
   },
   "outputs": [],
   "source": [
    "!python control_demo.py"
   ]
  },
  {
   "cell_type": "code",
   "execution_count": 78,
   "metadata": {
    "collapsed": false
   },
   "outputs": [
    {
     "name": "stdout",
     "output_type": "stream",
     "text": [
      "Overwriting mpl_demo.py\n"
     ]
    }
   ],
   "source": [
    "%%writefile mpl_demo.py\n",
    "#!/usr/bin/env python\n",
    "\n",
    "from numpy import arange, sin, pi\n",
    "from matplotlib.backends.backend_wxagg import FigureCanvasWxAgg as FigureCanvas\n",
    "from matplotlib.figure import Figure \n",
    "import wx\n",
    "\n",
    "class CanvasFrame(wx.Frame):\n",
    "    def __init__(self):\n",
    "        wx.Frame.__init__(self, None, -1, 'CanvasFrame', size=(550,350))\n",
    "        \n",
    "        self.figure =Figure()\n",
    "        self.axes=self.figure.add_subplot(111)\n",
    "        t=arange(0.0,3.0,0.01)\n",
    "        s = sin(2*pi*t)\n",
    "        \n",
    "        self.axes.plot(t,s)\n",
    "        self.canvas=FigureCanvas(self, -1, self.figure)\n",
    "        \n",
    "        self.sizer=wx.BoxSizer(wx.VERTICAL)\n",
    "        self.sizer.Add(self.canvas, 1, wx.LEFT | wx.TOP| wx.EXPAND)\n",
    "        self.SetSizer(self.sizer)\n",
    "        self.Fit()\n",
    "        \n",
    "class App(wx.App):\n",
    "    def OnInit(self):\n",
    "        'Create the main window and insert the custom frame'\n",
    "        frame= CanvasFrame()\n",
    "        frame.Show()\n",
    "        return True\n",
    "    \n",
    "app= App(0)\n",
    "app.MainLoop()\n",
    "    \n",
    "    "
   ]
  },
  {
   "cell_type": "code",
   "execution_count": null,
   "metadata": {
    "collapsed": false
   },
   "outputs": [],
   "source": [
    "!python mpl_demo.py"
   ]
  },
  {
   "cell_type": "code",
   "execution_count": null,
   "metadata": {
    "collapsed": true
   },
   "outputs": [],
   "source": []
  }
 ],
 "metadata": {
  "kernelspec": {
   "display_name": "Python [conda root]",
   "language": "python",
   "name": "conda-root-py"
  },
  "language_info": {
   "codemirror_mode": {
    "name": "ipython",
    "version": 2
   },
   "file_extension": ".py",
   "mimetype": "text/x-python",
   "name": "python",
   "nbconvert_exporter": "python",
   "pygments_lexer": "ipython2",
   "version": "2.7.12"
  }
 },
 "nbformat": 4,
 "nbformat_minor": 1
}
