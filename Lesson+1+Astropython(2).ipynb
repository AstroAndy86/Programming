{
 "cells": [
  {
   "cell_type": "code",
   "execution_count": 1,
   "metadata": {
    "collapsed": true
   },
   "outputs": [],
   "source": [
    "import sys "
   ]
  },
  {
   "cell_type": "markdown",
   "metadata": {},
   "source": [
    "Hello world\n"
   ]
  },
  {
   "cell_type": "markdown",
   "metadata": {},
   "source": [
    "# Header \n",
    "## Sub-Headers\n",
    "### Sub-sub-sub headers\n",
    "\n",
    "ESC-m transform cell into markdown \n",
    "\n",
    "ESC-y transform cell into code \n",
    "\n",
    "SHIFT-ENTER Execute the cell \n",
    "\n",
    "_italic_ \n",
    "\n",
    "### Lists \n",
    "1. item\n",
    "2. item\n",
    "3. item \n"
   ]
  },
  {
   "cell_type": "markdown",
   "metadata": {},
   "source": [
    "## Math\n",
    "\n",
    "$10 \\times 4 $"
   ]
  },
  {
   "cell_type": "markdown",
   "metadata": {},
   "source": [
    "$\\frac{\\log{3}}{5}$"
   ]
  },
  {
   "cell_type": "markdown",
   "metadata": {},
   "source": [
    "## writing code \n",
    "``` python \n",
    "import sys \n",
    "\n",
    "\n",
    "``` \n"
   ]
  },
  {
   "cell_type": "code",
   "execution_count": 5,
   "metadata": {
    "collapsed": false
   },
   "outputs": [
    {
     "name": "stdout",
     "output_type": "stream",
     "text": [
      "Monday\n"
     ]
    }
   ],
   "source": [
    "%%%bash \n",
    "echo 'Monday'\n"
   ]
  },
  {
   "cell_type": "code",
   "execution_count": 6,
   "metadata": {
    "collapsed": false
   },
   "outputs": [
    {
     "name": "stdout",
     "output_type": "stream",
     "text": [
      "csat8911\r\n"
     ]
    }
   ],
   "source": [
    "! whoami"
   ]
  },
  {
   "cell_type": "code",
   "execution_count": 8,
   "metadata": {
    "collapsed": false
   },
   "outputs": [
    {
     "name": "stdout",
     "output_type": "stream",
     "text": [
      "csat8911\n"
     ]
    }
   ],
   "source": [
    "%%bash \n",
    "! whoami "
   ]
  },
  {
   "cell_type": "code",
   "execution_count": 9,
   "metadata": {
    "collapsed": false
   },
   "outputs": [
    {
     "data": {
      "text/plain": [
       "u'/home/csat8911'"
      ]
     },
     "execution_count": 9,
     "metadata": {},
     "output_type": "execute_result"
    }
   ],
   "source": [
    "pwd"
   ]
  },
  {
   "cell_type": "code",
   "execution_count": 10,
   "metadata": {
    "collapsed": false
   },
   "outputs": [
    {
     "name": "stdout",
     "output_type": "stream",
     "text": [
      "anaconda2  Downloads\t\t       old.bashrc   Public\r\n",
      "Desktop    Lesson 1 Astropython.ipynb  Pictures     Templates\r\n",
      "Documents  Music\t\t       Programming  Videos\r\n"
     ]
    }
   ],
   "source": [
    "!ls"
   ]
  },
  {
   "cell_type": "code",
   "execution_count": 13,
   "metadata": {
    "collapsed": true
   },
   "outputs": [],
   "source": [
    "!cd .."
   ]
  },
  {
   "cell_type": "code",
   "execution_count": 14,
   "metadata": {
    "collapsed": false
   },
   "outputs": [
    {
     "data": {
      "text/plain": [
       "u'/home/csat8911'"
      ]
     },
     "execution_count": 14,
     "metadata": {},
     "output_type": "execute_result"
    }
   ],
   "source": [
    "pwd"
   ]
  },
  {
   "cell_type": "code",
   "execution_count": 17,
   "metadata": {
    "collapsed": false
   },
   "outputs": [
    {
     "name": "stdout",
     "output_type": "stream",
     "text": [
      "Usage: ls [OPTION]... [FILE]...\n",
      "List information about the FILEs (the current directory by default).\n",
      "Sort entries alphabetically if none of -cftuvSUX nor --sort is specified.\n",
      "\n",
      "Mandatory arguments to long options are mandatory for short options too.\n",
      "  -a, --all                  do not ignore entries starting with .\n",
      "  -A, --almost-all           do not list implied . and ..\n",
      "      --author               with -l, print the author of each file\n",
      "  -b, --escape               print C-style escapes for nongraphic characters\n",
      "      --block-size=SIZE      scale sizes by SIZE before printing them; e.g.,\n",
      "                               '--block-size=M' prints sizes in units of\n",
      "                               1,048,576 bytes; see SIZE format below\n",
      "  -B, --ignore-backups       do not list implied entries ending with ~\n",
      "  -c                         with -lt: sort by, and show, ctime (time of last\n",
      "                               modification of file status information);\n",
      "                               with -l: show ctime and sort by name;\n",
      "                               otherwise: sort by ctime, newest first\n",
      "  -C                         list entries by columns\n",
      "      --color[=WHEN]         colorize the output; WHEN can be 'never', 'auto',\n",
      "                               or 'always' (the default); more info below\n",
      "  -d, --directory            list directories themselves, not their contents\n",
      "  -D, --dired                generate output designed for Emacs' dired mode\n",
      "  -f                         do not sort, enable -aU, disable -ls --color\n",
      "  -F, --classify             append indicator (one of */=>@|) to entries\n",
      "      --file-type            likewise, except do not append '*'\n",
      "      --format=WORD          across -x, commas -m, horizontal -x, long -l,\n",
      "                               single-column -1, verbose -l, vertical -C\n",
      "      --full-time            like -l --time-style=full-iso\n",
      "  -g                         like -l, but do not list owner\n",
      "      --group-directories-first\n",
      "                             group directories before files;\n",
      "                               can be augmented with a --sort option, but any\n",
      "                               use of --sort=none (-U) disables grouping\n",
      "  -G, --no-group             in a long listing, don't print group names\n",
      "  -h, --human-readable       with -l, print sizes in human readable format\n",
      "                               (e.g., 1K 234M 2G)\n",
      "      --si                   likewise, but use powers of 1000 not 1024\n",
      "  -H, --dereference-command-line\n",
      "                             follow symbolic links listed on the command line\n",
      "      --dereference-command-line-symlink-to-dir\n",
      "                             follow each command line symbolic link\n",
      "                               that points to a directory\n",
      "      --hide=PATTERN         do not list implied entries matching shell PATTERN\n",
      "                               (overridden by -a or -A)\n",
      "      --indicator-style=WORD  append indicator with style WORD to entry names:\n",
      "                               none (default), slash (-p),\n",
      "                               file-type (--file-type), classify (-F)\n",
      "  -i, --inode                print the index number of each file\n",
      "  -I, --ignore=PATTERN       do not list implied entries matching shell PATTERN\n",
      "  -k, --kibibytes            default to 1024-byte blocks for disk usage\n",
      "  -l                         use a long listing format\n",
      "  -L, --dereference          when showing file information for a symbolic\n",
      "                               link, show information for the file the link\n",
      "                               references rather than for the link itself\n",
      "  -m                         fill width with a comma separated list of entries\n",
      "  -n, --numeric-uid-gid      like -l, but list numeric user and group IDs\n",
      "  -N, --literal              print raw entry names (don't treat e.g. control\n",
      "                               characters specially)\n",
      "  -o                         like -l, but do not list group information\n",
      "  -p, --indicator-style=slash\n",
      "                             append / indicator to directories\n",
      "  -q, --hide-control-chars   print ? instead of nongraphic characters\n",
      "      --show-control-chars   show nongraphic characters as-is (the default,\n",
      "                               unless program is 'ls' and output is a terminal)\n",
      "  -Q, --quote-name           enclose entry names in double quotes\n",
      "      --quoting-style=WORD   use quoting style WORD for entry names:\n",
      "                               literal, locale, shell, shell-always, c, escape\n",
      "  -r, --reverse              reverse order while sorting\n",
      "  -R, --recursive            list subdirectories recursively\n",
      "  -s, --size                 print the allocated size of each file, in blocks\n",
      "  -S                         sort by file size\n",
      "      --sort=WORD            sort by WORD instead of name: none (-U), size (-S),\n",
      "                               time (-t), version (-v), extension (-X)\n",
      "      --time=WORD            with -l, show time as WORD instead of default\n",
      "                               modification time: atime or access or use (-u)\n",
      "                               ctime or status (-c); also use specified time\n",
      "                               as sort key if --sort=time\n",
      "      --time-style=STYLE     with -l, show times using style STYLE:\n",
      "                               full-iso, long-iso, iso, locale, or +FORMAT;\n",
      "                               FORMAT is interpreted like in 'date'; if FORMAT\n",
      "                               is FORMAT1<newline>FORMAT2, then FORMAT1 applies\n",
      "                               to non-recent files and FORMAT2 to recent files;\n",
      "                               if STYLE is prefixed with 'posix-', STYLE\n",
      "                               takes effect only outside the POSIX locale\n",
      "  -t                         sort by modification time, newest first\n",
      "  -T, --tabsize=COLS         assume tab stops at each COLS instead of 8\n",
      "  -u                         with -lt: sort by, and show, access time;\n",
      "                               with -l: show access time and sort by name;\n",
      "                               otherwise: sort by access time\n",
      "  -U                         do not sort; list entries in directory order\n",
      "  -v                         natural sort of (version) numbers within text\n",
      "  -w, --width=COLS           assume screen width instead of current value\n",
      "  -x                         list entries by lines instead of by columns\n",
      "  -X                         sort alphabetically by entry extension\n",
      "  -1                         list one file per line\n",
      "\n",
      "SELinux options:\n",
      "\n",
      "  --lcontext                 Display security context.   Enable -l. Lines\n",
      "                             will probably be too wide for most displays.\n",
      "  -Z, --context              Display security context so it fits on most\n",
      "                             displays.  Displays only mode, user, group,\n",
      "                             security context and file name.\n",
      "  --scontext                 Display only security context and file name.\n",
      "      --help     display this help and exit\n",
      "      --version  output version information and exit\n",
      "\n",
      "SIZE is an integer and optional unit (example: 10M is 10*1024*1024).  Units\n",
      "are K, M, G, T, P, E, Z, Y (powers of 1024) or KB, MB, ... (powers of 1000).\n",
      "\n",
      "Using color to distinguish file types is disabled both by default and\n",
      "with --color=never.  With --color=auto, ls emits color codes only when\n",
      "standard output is connected to a terminal.  The LS_COLORS environment\n",
      "variable can change the settings.  Use the dircolors command to set it.\n",
      "\n",
      "Exit status:\n",
      " 0  if OK,\n",
      " 1  if minor problems (e.g., cannot access subdirectory),\n",
      " 2  if serious trouble (e.g., cannot access command-line argument).\n",
      "\n",
      "GNU coreutils online help: <http://www.gnu.org/software/coreutils/>\n",
      "For complete documentation, run: info coreutils 'ls invocation'\n"
     ]
    }
   ],
   "source": [
    "%%bash \n",
    "ls --help"
   ]
  },
  {
   "cell_type": "code",
   "execution_count": 26,
   "metadata": {
    "collapsed": false
   },
   "outputs": [
    {
     "name": "stdout",
     "output_type": "stream",
     "text": [
      "total 60K\r\n",
      "drwxr-xr-x. 20 csat8911 lxusers 4.0K Jan  9 10:08 anaconda2\r\n",
      "drwxr-xr-x.  2 csat8911 lxusers 4.0K Jan  9 09:25 Desktop\r\n",
      "drwxr-xr-x.  2 csat8911 lxusers 4.0K Jan  9 09:25 Documents\r\n",
      "drwxr-xr-x.  2 csat8911 lxusers 4.0K Jan  9 09:55 Downloads\r\n",
      "-rw-r--r--.  1 csat8911 lxusers  14K Jan  9 12:01 Lesson 1 Astropython.ipynb\r\n",
      "drwxr-xr-x.  2 csat8911 lxusers 4.0K Jan  9 09:25 Music\r\n",
      "-rw-r--r--.  1 nobody   nobody   231 Oct  5 15:10 old.bashrc\r\n",
      "drwxr-xr-x.  2 csat8911 lxusers 4.0K Jan  9 09:25 Pictures\r\n",
      "drwxr-xr-x.  2 csat8911 lxusers 4.0K Jan  9 10:36 Programming\r\n",
      "drwxr-xr-x.  2 csat8911 lxusers 4.0K Jan  9 09:25 Public\r\n",
      "drwxr-xr-x.  2 csat8911 lxusers 4.0K Jan  9 09:25 Templates\r\n",
      "drwxr-xr-x.  2 csat8911 lxusers 4.0K Jan  9 09:25 Videos\r\n"
     ]
    }
   ],
   "source": [
    "\n",
    "!ls -lh"
   ]
  },
  {
   "cell_type": "code",
   "execution_count": 28,
   "metadata": {
    "collapsed": false
   },
   "outputs": [
    {
     "name": "stdout",
     "output_type": "stream",
     "text": [
      "Test\n",
      "Lesson 1 Astropython.ipynb\n",
      "Programming\n",
      "anaconda2\n",
      "Downloads\n",
      "Videos\n",
      "Pictures\n",
      "Music\n",
      "Documents\n",
      "Public\n",
      "Templates\n",
      "Desktop\n",
      "old.bashrc\n"
     ]
    }
   ],
   "source": [
    "%%bash\n",
    "mkdir Test \n",
    "ls -t"
   ]
  },
  {
   "cell_type": "code",
   "execution_count": 30,
   "metadata": {
    "collapsed": false
   },
   "outputs": [
    {
     "name": "stderr",
     "output_type": "stream",
     "text": [
      "ls: cannot access *lecture: No such file or directory\n"
     ]
    }
   ],
   "source": []
  },
  {
   "cell_type": "code",
   "execution_count": null,
   "metadata": {
    "collapsed": true
   },
   "outputs": [],
   "source": []
  }
 ],
 "metadata": {
  "kernelspec": {
   "display_name": "Python [conda root]",
   "language": "python",
   "name": "conda-root-py"
  },
  "language_info": {
   "codemirror_mode": {
    "name": "ipython",
    "version": 2
   },
   "file_extension": ".py",
   "mimetype": "text/x-python",
   "name": "python",
   "nbconvert_exporter": "python",
   "pygments_lexer": "ipython2",
   "version": "2.7.12"
  }
 },
 "nbformat": 4,
 "nbformat_minor": 1
}
