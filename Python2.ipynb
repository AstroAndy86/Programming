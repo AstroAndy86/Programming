{
 "cells": [
  {
   "cell_type": "code",
   "execution_count": 35,
   "metadata": {
    "collapsed": false
   },
   "outputs": [
    {
     "name": "stdout",
     "output_type": "stream",
     "text": [
      "Overwriting framecode.py\n"
     ]
    }
   ],
   "source": [
    "%%writefile framecode.py\n",
    "#!usr/bin/env python\n",
    "import wx\n",
    "\n",
    "app= wx.App(False)\n",
    "frame= wx.Frame(None,wx.ID_ANY, \"Hello world\") #Opens a window(parent,Id,title)\n",
    "frame.Show(True)\n",
    "app.MainLoop()"
   ]
  },
  {
   "cell_type": "code",
   "execution_count": 36,
   "metadata": {
    "collapsed": true
   },
   "outputs": [],
   "source": [
    "!chmod +x framecode.py"
   ]
  },
  {
   "cell_type": "code",
   "execution_count": 37,
   "metadata": {
    "collapsed": false
   },
   "outputs": [],
   "source": [
    "!python framecode.py"
   ]
  },
  {
   "cell_type": "code",
   "execution_count": 65,
   "metadata": {
    "collapsed": false
   },
   "outputs": [
    {
     "name": "stdout",
     "output_type": "stream",
     "text": [
      "Overwriting editor.py\n"
     ]
    }
   ],
   "source": [
    "%%writefile editor.py \n",
    "#!usr/bin/env python\n",
    "import wx\n",
    "class MyFrame(wx.Frame):\n",
    "    \"\"\" We simply derive a new class of frame\"\"\"\n",
    "    def __init__(self,parent,title):\n",
    "        wx.Frame.__init__(self, parent, title=title, size=(200,200))\n",
    "        self.control=wx.TextCtrl(self, style=wx.TE_MULTILINE)\n",
    "        \n",
    "        self.CreateStatusBar()\n",
    "        \n",
    "        #setting up the menu\n",
    "        filemenu=wx.Menu()\n",
    "        \n",
    "        #standard script to exit\n",
    "        menuAbout=filemenu.Append(wx.ID_ABOUT,\"&About\",\"Information about this\")\n",
    "        filemenu.AppendSeparator()\n",
    "        menuExit=filemenu.Append(wx.ID_EXIT,\"E&xit\",\"Terminate the Program\")\n",
    "        \n",
    "        #Creates the menu bar\n",
    "        menuBar = wx.MenuBar()\n",
    "        menuBar.Append(filemenu,\"&File\")\n",
    "        self.SetMenuBar(menuBar)\n",
    "        \n",
    "        #Set Events\n",
    "        self.Bind(wx.EVT_MENU, self.OnAbout, menuAbout)\n",
    "        self.Bind(wx.EVT_MENU, self.OnExit, menuExit)\n",
    "              \n",
    "        self.Show(True)\n",
    "        \n",
    "    def OnAbout(self,e):\n",
    "        #A message dialog box with an OK Button\n",
    "        dlg=wx.MessageDialog(self, \"A small text editor\",\"About Sample Editor\", wx.OK) \n",
    "        dlg.ShowModal() #Show it \n",
    "        dlg.Destroy() #Finally destroy when finished\n",
    "    \n",
    "    def OnExit(self,e):\n",
    "        self.Close(True) #Close the Frame\n",
    "        \n",
    "app= wx.App(False)\n",
    "frame =MyFrame(None, \"Small editor\")\n",
    "app.MainLoop()"
   ]
  },
  {
   "cell_type": "code",
   "execution_count": 66,
   "metadata": {
    "collapsed": false
   },
   "outputs": [],
   "source": [
    "!python editor.py"
   ]
  },
  {
   "cell_type": "code",
   "execution_count": null,
   "metadata": {
    "collapsed": true
   },
   "outputs": [],
   "source": []
  }
 ],
 "metadata": {
  "kernelspec": {
   "display_name": "Python [conda root]",
   "language": "python",
   "name": "conda-root-py"
  },
  "language_info": {
   "codemirror_mode": {
    "name": "ipython",
    "version": 2
   },
   "file_extension": ".py",
   "mimetype": "text/x-python",
   "name": "python",
   "nbconvert_exporter": "python",
   "pygments_lexer": "ipython2",
   "version": "2.7.12"
  }
 },
 "nbformat": 4,
 "nbformat_minor": 1
}
